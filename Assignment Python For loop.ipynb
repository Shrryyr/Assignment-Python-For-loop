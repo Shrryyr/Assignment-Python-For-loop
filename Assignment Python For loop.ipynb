{
 "cells": [
  {
   "cell_type": "markdown",
   "id": "09ad1ed7-60e8-473b-8b91-e4eeb08c0ba3",
   "metadata": {},
   "source": [
    "                                                       :: Basic Level ::"
   ]
  },
  {
   "cell_type": "code",
   "execution_count": 16,
   "id": "e91d1166-9c6f-49d6-8151-50e2ff603834",
   "metadata": {},
   "outputs": [
    {
     "name": "stdout",
     "output_type": "stream",
     "text": [
      "1\n",
      "2\n",
      "3\n",
      "4\n",
      "5\n",
      "6\n",
      "7\n",
      "8\n",
      "9\n",
      "10\n"
     ]
    }
   ],
   "source": [
    "#Q1. Write a Python program to print the numbers from 1 to 10 using a `for` loop.\n",
    "\n",
    "for i in range(1, 11):\n",
    "    print(i)"
   ]
  },
  {
   "cell_type": "code",
   "execution_count": 17,
   "id": "36ac8fff-805b-454a-82d4-f2a852667256",
   "metadata": {},
   "outputs": [
    {
     "name": "stdout",
     "output_type": "stream",
     "text": [
      "Sum: 15\n"
     ]
    }
   ],
   "source": [
    "#Q2. Create a program that calculates the sum of all numbers in a list using a `for` loop.\n",
    "\n",
    "numbers = [1, 2, 3, 4, 5]\n",
    "total = 0\n",
    "for num in numbers:\n",
    "    total += num\n",
    "print(\"Sum:\", total)"
   ]
  },
  {
   "cell_type": "code",
   "execution_count": 15,
   "id": "d9de98b5-80c7-4593-b919-5c6a79cfec25",
   "metadata": {},
   "outputs": [
    {
     "name": "stdout",
     "output_type": "stream",
     "text": [
      "n\n",
      "o\n",
      "h\n",
      "t\n",
      "y\n",
      "P\n"
     ]
    }
   ],
   "source": [
    "#Q3. Write a program to print the characters of a string in reverse order using a `for` loop.\n",
    "\n",
    "text = \"Python\"\n",
    "for i in range(len(text) - 1, -1, -1):\n",
    "    print(text[i])"
   ]
  },
  {
   "cell_type": "code",
   "execution_count": 4,
   "id": "b2e92025-ecf5-4920-aa51-56ab39d67852",
   "metadata": {},
   "outputs": [
    {
     "name": "stdout",
     "output_type": "stream",
     "text": [
      "Factorial of 5 is 120\n"
     ]
    }
   ],
   "source": [
    "#Q4. Develop a program that finds the factorial of a given number using a `for` loop.\n",
    "\n",
    "num = 5\n",
    "factorial = 1\n",
    "for i in range(1, num + 1):\n",
    "    factorial *= i\n",
    "print(\"Factorial of\", num, \"is\", factorial)"
   ]
  },
  {
   "cell_type": "code",
   "execution_count": 5,
   "id": "625e1cd4-b479-4194-a671-7aaae63390e1",
   "metadata": {},
   "outputs": [
    {
     "name": "stdout",
     "output_type": "stream",
     "text": [
      "7 x 1 = 7\n",
      "7 x 2 = 14\n",
      "7 x 3 = 21\n",
      "7 x 4 = 28\n",
      "7 x 5 = 35\n",
      "7 x 6 = 42\n",
      "7 x 7 = 49\n",
      "7 x 8 = 56\n",
      "7 x 9 = 63\n",
      "7 x 10 = 70\n"
     ]
    }
   ],
   "source": [
    "#Q5. Create a program to print the multiplication table of a given number using a `for` loop.\n",
    "\n",
    "number = 7\n",
    "for i in range(1, 11):\n",
    "    print(f\"{number} x {i} = {number * i}\")"
   ]
  },
  {
   "cell_type": "code",
   "execution_count": 18,
   "id": "dca8c954-5dcd-4333-a3fa-52cd40382be0",
   "metadata": {},
   "outputs": [
    {
     "name": "stdout",
     "output_type": "stream",
     "text": [
      "Even numbers: 3\n",
      "Odd numbers: 3\n"
     ]
    }
   ],
   "source": [
    "#Q6. Write a program that counts the number of even and odd numbers in a list using a `for` loop.\n",
    "\n",
    "numbers = [1, 2, 3, 4, 5, 6]\n",
    "even = 0\n",
    "odd = 0\n",
    "for num in numbers:\n",
    "    if num % 2 == 0:\n",
    "        even += 1\n",
    "    else:\n",
    "        odd += 1\n",
    "print(\"Even numbers:\", even)\n",
    "print(\"Odd numbers:\", odd)"
   ]
  },
  {
   "cell_type": "code",
   "execution_count": 7,
   "id": "182b7969-6eb2-43cf-9c80-007ceced7a6a",
   "metadata": {},
   "outputs": [
    {
     "name": "stdout",
     "output_type": "stream",
     "text": [
      "Square of 1 is 1\n",
      "Square of 2 is 4\n",
      "Square of 3 is 9\n",
      "Square of 4 is 16\n",
      "Square of 5 is 25\n"
     ]
    }
   ],
   "source": [
    "#Q7. Develop a program that prints the squares of numbers from 1 to 5 using a `for` loop.\n",
    "\n",
    "for i in range(1, 6):\n",
    "    print(f\"Square of {i} is {i**2}\")"
   ]
  },
  {
   "cell_type": "code",
   "execution_count": 8,
   "id": "33957879-cf35-4d28-833a-861d51f9276f",
   "metadata": {},
   "outputs": [
    {
     "name": "stdout",
     "output_type": "stream",
     "text": [
      "Length of the string: 5\n"
     ]
    }
   ],
   "source": [
    "#Q8. Create a program to find the length of a string without using the `len()` function.\n",
    "\n",
    "text = \"Hello\"\n",
    "length = 0\n",
    "for _ in text:\n",
    "    length += 1\n",
    "print(\"Length of the string:\", length)"
   ]
  },
  {
   "cell_type": "code",
   "execution_count": 9,
   "id": "982407b2-a3c9-464e-bbea-18bf8e62271f",
   "metadata": {},
   "outputs": [
    {
     "name": "stdout",
     "output_type": "stream",
     "text": [
      "Average: 30.0\n"
     ]
    }
   ],
   "source": [
    "#Q9. Write a program that calculates the average of a list of numbers using a `for` loop.\n",
    "\n",
    "numbers = [10, 20, 30, 40, 50]\n",
    "total = 0\n",
    "count = 0\n",
    "for num in numbers:\n",
    "    total += num\n",
    "    count += 1\n",
    "average = total / count\n",
    "print(\"Average:\", average)"
   ]
  },
  {
   "cell_type": "code",
   "execution_count": 10,
   "id": "153663cd-148e-43d5-8405-b85e082b9c2e",
   "metadata": {},
   "outputs": [
    {
     "name": "stdout",
     "output_type": "stream",
     "text": [
      "0 1 1 2 3 5 8 13 21 34 "
     ]
    }
   ],
   "source": [
    "#Q10. Develop a program that prints the first `n` Fibonacci numbers using a `for` loop.\n",
    "\n",
    "n = 10\n",
    "a, b = 0, 1\n",
    "for i in range(n):\n",
    "    print(a, end=\" \")\n",
    "    a, b = b, a + b"
   ]
  },
  {
   "cell_type": "markdown",
   "id": "3ccbdce5-6bb8-4dd7-9d83-d06d90780970",
   "metadata": {},
   "source": [
    "                                                    :: Intermediate Level ::"
   ]
  },
  {
   "cell_type": "code",
   "execution_count": 11,
   "id": "d03919d4-80d3-4648-99b1-82f1b0a266e7",
   "metadata": {},
   "outputs": [
    {
     "name": "stdout",
     "output_type": "stream",
     "text": [
      "List contains duplicates.\n"
     ]
    }
   ],
   "source": [
    "#Q11. Write a program to check if a given list contains any duplicates using a `for` loop.\n",
    "\n",
    "lst = [1, 2, 3, 4, 2]\n",
    "found = False\n",
    "for i in range(len(lst)):\n",
    "    for j in range(i + 1, len(lst)):\n",
    "        if lst[i] == lst[j]:\n",
    "            found = True\n",
    "            break\n",
    "    if found:\n",
    "        break\n",
    "\n",
    "if found:\n",
    "    print(\"List contains duplicates.\")\n",
    "else:\n",
    "    print(\"List does not contain duplicates.\")"
   ]
  },
  {
   "cell_type": "code",
   "execution_count": 19,
   "id": "6b265e00-8497-4a74-ad34-a38163466792",
   "metadata": {},
   "outputs": [
    {
     "name": "stdout",
     "output_type": "stream",
     "text": [
      "11 13 17 19 23 29 "
     ]
    }
   ],
   "source": [
    "#Q12. Create a program that prints the prime numbers in a given range using a `for` loop.\n",
    "\n",
    "start = 10\n",
    "end = 30\n",
    "for num in range(start, end + 1):\n",
    "    if num > 1:\n",
    "        is_prime = True\n",
    "        for i in range(2, int(num**0.5)+1):\n",
    "            if num % i == 0:\n",
    "                is_prime = False\n",
    "                break\n",
    "        if is_prime:\n",
    "            print(num, end=\" \")"
   ]
  },
  {
   "cell_type": "code",
   "execution_count": 52,
   "id": "d16a1553-001b-4501-aa74-6db215ffe51b",
   "metadata": {},
   "outputs": [
    {
     "name": "stdout",
     "output_type": "stream",
     "text": [
      "Number of vowels: 3\n"
     ]
    }
   ],
   "source": [
    "#Q13. Develop a program that counts the number of vowels in a string using a `for` loop.\n",
    "\n",
    "text = \"Hello World\"\n",
    "vowels = \"aeiouAEIOU\"\n",
    "count = 0\n",
    "for char in text:\n",
    "    if char in vowels:\n",
    "        count += 1\n",
    "print(\"Number of vowels:\", count)"
   ]
  },
  {
   "cell_type": "code",
   "execution_count": 14,
   "id": "42cc317e-9f6e-4063-9c0d-d45b1dc80c50",
   "metadata": {},
   "outputs": [
    {
     "name": "stdout",
     "output_type": "stream",
     "text": [
      "Maximum element: 9\n"
     ]
    }
   ],
   "source": [
    "#Q14. Write a program to find the maximum element in a 2D list using a nested `for` loop.\n",
    "\n",
    "matrix = [[3, 5, 9], [1, 7, 4], [8, 2, 6]]\n",
    "maximum = matrix[0][0]\n",
    "for row in matrix:\n",
    "    for value in row:\n",
    "        if value > maximum:\n",
    "            maximum = value\n",
    "print(\"Maximum element:\", maximum)"
   ]
  },
  {
   "cell_type": "code",
   "execution_count": 20,
   "id": "965fa9a0-01d8-49a1-a54e-29c9d63c86d8",
   "metadata": {},
   "outputs": [
    {
     "name": "stdout",
     "output_type": "stream",
     "text": [
      "Updated list: [1, 3, 4, 5]\n"
     ]
    }
   ],
   "source": [
    "#Q15. Create a program that removes all occurrences of a specific element from a list using a `for` loop.\n",
    "\n",
    "lst = [1, 2, 3, 2, 4, 2, 5]\n",
    "target = 2\n",
    "result = []\n",
    "for item in lst:\n",
    "    if item != target:\n",
    "        result.append(item)\n",
    "print(\"Updated list:\", result)"
   ]
  },
  {
   "cell_type": "code",
   "execution_count": 21,
   "id": "c7ba7ed3-686c-4ba3-a6d0-4879a192dba6",
   "metadata": {},
   "outputs": [
    {
     "name": "stdout",
     "output_type": "stream",
     "text": [
      "1 x 1 = 1\n",
      "1 x 2 = 2\n",
      "1 x 3 = 3\n",
      "1 x 4 = 4\n",
      "1 x 5 = 5\n",
      "1 x 6 = 6\n",
      "1 x 7 = 7\n",
      "1 x 8 = 8\n",
      "1 x 9 = 9\n",
      "1 x 10 = 10\n",
      "\n",
      "2 x 1 = 2\n",
      "2 x 2 = 4\n",
      "2 x 3 = 6\n",
      "2 x 4 = 8\n",
      "2 x 5 = 10\n",
      "2 x 6 = 12\n",
      "2 x 7 = 14\n",
      "2 x 8 = 16\n",
      "2 x 9 = 18\n",
      "2 x 10 = 20\n",
      "\n",
      "3 x 1 = 3\n",
      "3 x 2 = 6\n",
      "3 x 3 = 9\n",
      "3 x 4 = 12\n",
      "3 x 5 = 15\n",
      "3 x 6 = 18\n",
      "3 x 7 = 21\n",
      "3 x 8 = 24\n",
      "3 x 9 = 27\n",
      "3 x 10 = 30\n",
      "\n",
      "4 x 1 = 4\n",
      "4 x 2 = 8\n",
      "4 x 3 = 12\n",
      "4 x 4 = 16\n",
      "4 x 5 = 20\n",
      "4 x 6 = 24\n",
      "4 x 7 = 28\n",
      "4 x 8 = 32\n",
      "4 x 9 = 36\n",
      "4 x 10 = 40\n",
      "\n",
      "5 x 1 = 5\n",
      "5 x 2 = 10\n",
      "5 x 3 = 15\n",
      "5 x 4 = 20\n",
      "5 x 5 = 25\n",
      "5 x 6 = 30\n",
      "5 x 7 = 35\n",
      "5 x 8 = 40\n",
      "5 x 9 = 45\n",
      "5 x 10 = 50\n",
      "\n"
     ]
    }
   ],
   "source": [
    "#Q16. Develop a program that generates a multiplication table for numbers from 1 to 5 using a nested `for` loop.\n",
    "\n",
    "for i in range(1, 6):\n",
    "    for j in range(1, 11):\n",
    "        print(f\"{i} x {j} = {i*j}\")\n",
    "    print()  # Blank line between tables"
   ]
  },
  {
   "cell_type": "code",
   "execution_count": 51,
   "id": "8036b719-d45d-4e4b-b40b-b4454b982019",
   "metadata": {},
   "outputs": [
    {
     "name": "stdout",
     "output_type": "stream",
     "text": [
      "Celsius temperatures: [0.0, 20.0, 25.0, 40.0]\n"
     ]
    }
   ],
   "source": [
    "#Q17. Write a program that converts a list of Fahrenheit temperatures to Celsius using a `for` loop.\n",
    "\n",
    "fahrenheit = [32, 68, 77, 104]\n",
    "celsius = []\n",
    "for f in fahrenheit:\n",
    "    c = (f - 32) * 5/9\n",
    "    celsius.append(c)\n",
    "print(\"Celsius temperatures:\", celsius)"
   ]
  },
  {
   "cell_type": "code",
   "execution_count": 23,
   "id": "5e1da342-f891-4fac-8a7f-c73e7ae27ecd",
   "metadata": {},
   "outputs": [
    {
     "name": "stdout",
     "output_type": "stream",
     "text": [
      "Common elements: [3, 4, 5]\n"
     ]
    }
   ],
   "source": [
    "#Q18. Create a program to print the common elements from two lists using a `for` loop.\n",
    "\n",
    "list1 = [1, 2, 3, 4, 5]\n",
    "list2 = [3, 4, 5, 6, 7]\n",
    "common = []\n",
    "for item in list1:\n",
    "    if item in list2:\n",
    "        common.append(item)\n",
    "print(\"Common elements:\", common)"
   ]
  },
  {
   "cell_type": "code",
   "execution_count": 24,
   "id": "3ac697b7-1380-4e00-8cbc-f497f6ccb09a",
   "metadata": {},
   "outputs": [
    {
     "name": "stdout",
     "output_type": "stream",
     "text": [
      "*\n",
      "**\n",
      "***\n",
      "****\n",
      "*****\n"
     ]
    }
   ],
   "source": [
    "#Q19. Develop a program that prints the pattern of right-angled triangles using a `for` loop. Use ‘*’ to draw the pattern\n",
    "\n",
    "rows = 5\n",
    "for i in range(1, rows + 1):\n",
    "    print(\"*\" * i)"
   ]
  },
  {
   "cell_type": "code",
   "execution_count": 25,
   "id": "39ed1295-268f-4ad5-9deb-78c9f605a1c8",
   "metadata": {},
   "outputs": [
    {
     "name": "stdout",
     "output_type": "stream",
     "text": [
      "GCD is: 12\n"
     ]
    }
   ],
   "source": [
    "#Q20. Write a program to find the greatest common divisor (GCD) of two numbers using a `for` loop.\n",
    "\n",
    "a = 36\n",
    "b = 60\n",
    "gcd = 1\n",
    "for i in range(1, min(a, b) + 1):\n",
    "    if a % i == 0 and b % i == 0:\n",
    "        gcd = i\n",
    "print(\"GCD is:\", gcd)"
   ]
  },
  {
   "cell_type": "markdown",
   "id": "0735406a-02cb-4a8c-9471-d5f3d2de4a47",
   "metadata": {},
   "source": [
    "                                                     :: Advanced Level ::"
   ]
  },
  {
   "cell_type": "code",
   "execution_count": 50,
   "id": "a9410091-5b17-4c49-ba5b-1d63ca9b41f7",
   "metadata": {},
   "outputs": [
    {
     "name": "stdout",
     "output_type": "stream",
     "text": [
      "Sum of digits: [6, 9, 13]\n"
     ]
    }
   ],
   "source": [
    "#Q21. Create a program that calculates the sum of the digits of numbers in a list using a list comprehension.\n",
    "\n",
    "numbers = [123, 45, 67]\n",
    "sums = [sum(int(digit) for digit in str(num)) for num in numbers]\n",
    "print(\"Sum of digits:\", sums)"
   ]
  },
  {
   "cell_type": "code",
   "execution_count": 27,
   "id": "d27ce85d-cf83-432b-ab03-fd1c97bf8b4b",
   "metadata": {},
   "outputs": [
    {
     "name": "stdout",
     "output_type": "stream",
     "text": [
      "Prime factors: [2, 3, 7]\n"
     ]
    }
   ],
   "source": [
    "#Q22. Write a program to find the prime factors of a given number using a `for` loop and list comprehension.\n",
    "\n",
    "num = 84\n",
    "factors = [i for i in range(2, num + 1) if num % i == 0 and all(i % j != 0 for j in range(2, int(i**0.5)+1))]\n",
    "print(\"Prime factors:\", factors)"
   ]
  },
  {
   "cell_type": "code",
   "execution_count": 49,
   "id": "331bfe25-e04b-4a33-b587-e755d5875e58",
   "metadata": {},
   "outputs": [
    {
     "name": "stdout",
     "output_type": "stream",
     "text": [
      "Unique elements: [1, 3, 5]\n"
     ]
    }
   ],
   "source": [
    "#Q23. Develop a program that extracts unique elements from a list and stores them in a new list using a list comprehension.\n",
    "\n",
    "lst = [1, 2, 2, 3, 4, 4, 5]\n",
    "unique = [x for x in lst if lst.count(x) == 1]\n",
    "print(\"Unique elements:\", unique)"
   ]
  },
  {
   "cell_type": "code",
   "execution_count": 29,
   "id": "c5b324b8-6815-4cae-9bde-25b12e57af28",
   "metadata": {},
   "outputs": [
    {
     "name": "stdout",
     "output_type": "stream",
     "text": [
      "Palindromic numbers: [0, 1, 2, 3, 4, 5, 6, 7, 8, 9, 11, 22, 33, 44, 55, 66, 77, 88, 99, 101, 111, 121, 131, 141, 151, 161, 171, 181, 191]\n"
     ]
    }
   ],
   "source": [
    "#Q24. Create a program that generates a list of all palindromic numbers up to a specified limit using a list comprehension.\n",
    "\n",
    "limit = 200\n",
    "palindromes = [i for i in range(limit + 1) if str(i) == str(i)[::-1]]\n",
    "print(\"Palindromic numbers:\", palindromes)"
   ]
  },
  {
   "cell_type": "code",
   "execution_count": 30,
   "id": "802d4166-450f-4908-808a-a54825ea4323",
   "metadata": {},
   "outputs": [
    {
     "name": "stdout",
     "output_type": "stream",
     "text": [
      "Flattened list: [1, 2, 3, 4, 5, 6]\n"
     ]
    }
   ],
   "source": [
    "#Q25. Write a program to flatten a nested list using list comprehension.\n",
    "\n",
    "nested = [[1, 2], [3, 4], [5, 6]]\n",
    "flat = [item for sublist in nested for item in sublist]\n",
    "print(\"Flattened list:\", flat)"
   ]
  },
  {
   "cell_type": "code",
   "execution_count": 48,
   "id": "f2ab9716-7402-4f58-b903-c19932a183d4",
   "metadata": {},
   "outputs": [
    {
     "name": "stdout",
     "output_type": "stream",
     "text": [
      "Even sum: 12\n",
      "Odd sum: 9\n"
     ]
    }
   ],
   "source": [
    "#Q26. Develop a program that computes the sum of even and odd numbers in a list separately using list comprehension.\n",
    "\n",
    "numbers = [1, 2, 3, 4, 5, 6]\n",
    "even_sum = sum([x for x in numbers if x % 2 == 0])\n",
    "odd_sum = sum([x for x in numbers if x % 2 != 0])\n",
    "print(\"Even sum:\", even_sum)\n",
    "print(\"Odd sum:\", odd_sum)"
   ]
  },
  {
   "cell_type": "code",
   "execution_count": 32,
   "id": "80b3b0db-8d40-4306-b837-725f32b91322",
   "metadata": {},
   "outputs": [
    {
     "name": "stdout",
     "output_type": "stream",
     "text": [
      "Squares of odd numbers: [1, 9, 25, 49, 81]\n"
     ]
    }
   ],
   "source": [
    "#Q27. Create a program that generates a list of squares of odd numbers between 1 and 10 using list comprehension.\n",
    "\n",
    "squares = [x**2 for x in range(1, 11) if x % 2 != 0]\n",
    "print(\"Squares of odd numbers:\", squares)"
   ]
  },
  {
   "cell_type": "code",
   "execution_count": 47,
   "id": "cade435c-ccf5-460b-9a4e-44f804e38a6d",
   "metadata": {},
   "outputs": [
    {
     "name": "stdout",
     "output_type": "stream",
     "text": [
      "Dictionary: {'a': 1, 'b': 2, 'c': 3}\n"
     ]
    }
   ],
   "source": [
    "#Q28. Write a program that combines two lists into a dictionary using list comprehension.\n",
    "\n",
    "keys = ['a', 'b', 'c']\n",
    "values = [1, 2, 3]\n",
    "dictionary = {k: v for k, v in zip(keys, values)}\n",
    "print(\"Dictionary:\", dictionary)"
   ]
  },
  {
   "cell_type": "code",
   "execution_count": 34,
   "id": "b744f46c-e092-4aa4-989b-4972e5ea7123",
   "metadata": {},
   "outputs": [
    {
     "name": "stdout",
     "output_type": "stream",
     "text": [
      "Vowels: ['i', 'o', 'e', 'e', 'i', 'o', 'i', 'o']\n"
     ]
    }
   ],
   "source": [
    "#Q29. Develop a program that extracts the vowels from a string and stores them in a list using list comprehension.\n",
    "\n",
    "text = \"List Comprehension in Python\"\n",
    "vowels = [ch for ch in text if ch.lower() in 'aeiou']\n",
    "print(\"Vowels:\", vowels)"
   ]
  },
  {
   "cell_type": "code",
   "execution_count": 35,
   "id": "a5e69183-586a-49b0-8b88-8103e3b04a12",
   "metadata": {},
   "outputs": [
    {
     "name": "stdout",
     "output_type": "stream",
     "text": [
      "Numeric strings: ['123', '456', '7890']\n"
     ]
    }
   ],
   "source": [
    "#Q30. Create a program that removes all non-numeric characters from a list of strings using list comprehension.\n",
    "\n",
    "data = ['abc123', '456def', '78gh90']\n",
    "only_numbers = [''.join([ch for ch in item if ch.isdigit()]) for item in data]\n",
    "print(\"Numeric strings:\", only_numbers)"
   ]
  },
  {
   "cell_type": "markdown",
   "id": "4b8180c5-5dd5-4193-8ecc-85a89030d332",
   "metadata": {},
   "source": [
    "                                                      :: Challenge Level ::"
   ]
  },
  {
   "cell_type": "code",
   "execution_count": 10,
   "id": "28961fcd-feb0-4640-bd4d-f6e3dffb6e1f",
   "metadata": {},
   "outputs": [
    {
     "name": "stdout",
     "output_type": "stream",
     "text": [
      "Primes up to 50 : [2, 3, 5, 7, 11, 13, 17, 19, 23, 29, 31, 37, 41, 43, 47]\n"
     ]
    }
   ],
   "source": [
    "#Q31. Write a program to generate a list of prime numbers using the Sieve of Eratosthenes algorithm and list comprehension.\n",
    "\n",
    "limit = 50\n",
    "is_prime = [True] * (limit + 1)\n",
    "is_prime[0] = is_prime[1] = False\n",
    "\n",
    "for i in range(2, int(limit**0.5) + 1):\n",
    "    if is_prime[i]:\n",
    "        for j in range(i * i, limit + 1, i):\n",
    "            is_prime[j] = False\n",
    "\n",
    "primes = [i for i, prime in enumerate(is_prime) if prime]\n",
    "print(\"Primes up to\", limit, \":\", primes)"
   ]
  },
  {
   "cell_type": "code",
   "execution_count": 11,
   "id": "6ce324f5-a8e0-4729-96b7-5687334cdfdc",
   "metadata": {},
   "outputs": [
    {
     "name": "stdout",
     "output_type": "stream",
     "text": [
      "Pythagorean triplets up to 30 : [(3, 4, 5), (5, 12, 13), (6, 8, 10), (7, 24, 25), (8, 15, 17), (9, 12, 15), (10, 24, 26), (12, 16, 20), (15, 20, 25), (20, 21, 29)]\n"
     ]
    }
   ],
   "source": [
    "#Q32. Create a program that generates a list of all Pythagorean triplets up to a specified limit using list comprehension.\n",
    "\n",
    "limit = 30\n",
    "triplets = [(a, b, c) for a in range(1, limit)\n",
    "                        for b in range(a, limit)\n",
    "                        for c in range(b, limit)\n",
    "                        if a*a + b*b == c*c]\n",
    "\n",
    "print(\"Pythagorean triplets up to\", limit, \":\", triplets)"
   ]
  },
  {
   "cell_type": "code",
   "execution_count": 12,
   "id": "4673a642-8dba-46e7-986c-4d0cabf8e445",
   "metadata": {},
   "outputs": [
    {
     "name": "stdout",
     "output_type": "stream",
     "text": [
      "Combinations: [(1, 'a'), (1, 'b'), (2, 'a'), (2, 'b')]\n"
     ]
    }
   ],
   "source": [
    "#Q33. Develop a program that generates a list of all possible combinations of two lists using list comprehension.\n",
    "\n",
    "list1 = [1, 2]\n",
    "list2 = ['a', 'b']\n",
    "combinations = [(x, y) for x in list1 for y in list2]\n",
    "print(\"Combinations:\", combinations)"
   ]
  },
  {
   "cell_type": "code",
   "execution_count": 4,
   "id": "89754b5a-d9c7-4dc2-8aa5-cd79dfa95cbf",
   "metadata": {},
   "outputs": [
    {
     "name": "stdout",
     "output_type": "stream",
     "text": [
      "Mean: 2.4\n",
      "Median: 2\n",
      "Mode: 2\n"
     ]
    }
   ],
   "source": [
    "#Q34. Write a program that calculates the mean, median, and mode of a list of numbers using list comprehension.\n",
    "\n",
    "from statistics import mean, median, mode\n",
    "\n",
    "numbers = [1, 2, 2, 3, 4]\n",
    "\n",
    "mean_val = mean(numbers)\n",
    "median_val = median(numbers)\n",
    "mode_val = mode(numbers)\n",
    "\n",
    "print(\"Mean:\", mean_val)\n",
    "print(\"Median:\", median_val)\n",
    "print(\"Mode:\", mode_val)"
   ]
  },
  {
   "cell_type": "code",
   "execution_count": 5,
   "id": "4b19d701-b750-4294-b47e-753ab704a77c",
   "metadata": {},
   "outputs": [
    {
     "name": "stdout",
     "output_type": "stream",
     "text": [
      "Sum of digits of factorials from 1 to 5: [1, 2, 6, 6, 3]\n"
     ]
    }
   ],
   "source": [
    "#Q36. Develop a program that calculates the sum of the digits of a factorial of numbers from 1 to 5 using list comprehension.\n",
    "\n",
    "import math\n",
    "\n",
    "sums = [sum(int(digit) for digit in str(math.factorial(i))) for i in range(1, 6)]\n",
    "print(\"Sum of digits of factorials from 1 to 5:\", sums)"
   ]
  },
  {
   "cell_type": "code",
   "execution_count": 14,
   "id": "0ffbecdb-5e84-4edf-980e-7e21e023bfec",
   "metadata": {},
   "outputs": [
    {
     "name": "stdout",
     "output_type": "stream",
     "text": [
      "Longest word: comprehensions\n"
     ]
    }
   ],
   "source": [
    "#Q37. Write a program that finds the longest word in a sentence using list comprehension.\n",
    "\n",
    "sentence = \"List comprehensions make Python concise and readable\"\n",
    "words = sentence.split()\n",
    "longest = max(words, key=lambda w: len(w))\n",
    "print(\"Longest word:\", longest)"
   ]
  },
  {
   "cell_type": "code",
   "execution_count": 13,
   "id": "dc3a3d0e-6446-43f9-91c4-d1b37db6c47e",
   "metadata": {},
   "outputs": [
    {
     "name": "stdout",
     "output_type": "stream",
     "text": [
      "Words with more than 3 vowels: ['education']\n"
     ]
    }
   ],
   "source": [
    "#Q38. Create a program that filters a list of strings to include only those with more than three vowels using list comprehension.\n",
    "\n",
    "words = [\"apple\", \"banana\", \"sky\", \"education\", \"orange\", \"try\"]\n",
    "vowels = \"aeiouAEIOU\"\n",
    "filtered = [word for word in words if sum(1 for ch in word if ch in vowels) > 3]\n",
    "print(\"Words with more than 3 vowels:\", filtered)"
   ]
  },
  {
   "cell_type": "code",
   "execution_count": 8,
   "id": "f207e17a-84ff-479f-ad5c-0fac045e6465",
   "metadata": {},
   "outputs": [
    {
     "name": "stdout",
     "output_type": "stream",
     "text": [
      "Sum of digits from 1 to 1000 calculated.\n",
      "First 10 sums: [1, 2, 3, 4, 5, 6, 7, 8, 9, 1]\n"
     ]
    }
   ],
   "source": [
    "#Q39. Develop a program that calculates the sum of the digits of numbers from 1 to 1000 using list comprehension.\n",
    "\n",
    "digit_sums = [sum(int(d) for d in str(i)) for i in range(1, 1001)]\n",
    "print(\"Sum of digits from 1 to 1000 calculated.\")\n",
    "# To show part of result:\n",
    "print(\"First 10 sums:\", digit_sums[:10])"
   ]
  },
  {
   "cell_type": "code",
   "execution_count": 9,
   "id": "95f8536d-9e12-4deb-8084-431957ab2ec8",
   "metadata": {},
   "outputs": [
    {
     "name": "stdout",
     "output_type": "stream",
     "text": [
      "Prime palindromes: [2, 3, 5, 7, 11, 101, 131, 151, 181, 191, 313, 353, 373, 383, 727, 757, 787, 797, 919, 929]\n"
     ]
    }
   ],
   "source": [
    "#Q40. Write a program that generates a list of prime palindromic numbers using list comprehension.\n",
    "\n",
    "def is_prime(n):\n",
    "    return n > 1 and all(n % i != 0 for i in range(2, int(n**0.5) + 1))\n",
    "\n",
    "limit = 1000\n",
    "prime_palindromes = [i for i in range(1, limit + 1) if str(i) == str(i)[::-1] and is_prime(i)]\n",
    "print(\"Prime palindromes:\", prime_palindromes)"
   ]
  }
 ],
 "metadata": {
  "kernelspec": {
   "display_name": "Python [conda env:base] *",
   "language": "python",
   "name": "conda-base-py"
  },
  "language_info": {
   "codemirror_mode": {
    "name": "ipython",
    "version": 3
   },
   "file_extension": ".py",
   "mimetype": "text/x-python",
   "name": "python",
   "nbconvert_exporter": "python",
   "pygments_lexer": "ipython3",
   "version": "3.12.7"
  }
 },
 "nbformat": 4,
 "nbformat_minor": 5
}
